{
 "cells": [
  {
   "cell_type": "code",
   "execution_count": 9,
   "metadata": {},
   "outputs": [],
   "source": [
    "import streamlit as st\n",
    "import math\n",
    "from scipy.stats import norm\n",
    "import mibian\n",
    "import model"
   ]
  },
  {
   "cell_type": "code",
   "execution_count": 7,
   "metadata": {},
   "outputs": [],
   "source": [
    "stock_price = 10\n",
    "strike_price = 15\n",
    "vol_pct = 12\n",
    "risk_free_rate = 0.05\n",
    "mnths_to_expiry = 3\n",
    "\n",
    "years_to_expiry = mnths_to_expiry / 12\n",
    "vol_dec = vol_pct / 100\n",
    "\n",
    "d1 = (math.log(stock_price / strike_price) + (risk_free_rate + (vol_dec ** 2) / 2) * years_to_expiry) / (vol_dec * math.sqrt(years_to_expiry))\n",
    "d2 = (math.log(stock_price / strike_price) + (risk_free_rate - (vol_dec ** 2) / 2) * years_to_expiry) / (vol_dec * math.sqrt(years_to_expiry))\n",
    "\n",
    "call_price = stock_price * norm.cdf(d1) - strike_price * math.exp(-risk_free_rate * years_to_expiry) * norm.cdf(d2)\n",
    "put_price = strike_price * math.exp(-risk_free_rate * years_to_expiry) * norm.cdf(-d2) - stock_price * norm.cdf(-d1)\n"
   ]
  },
  {
   "cell_type": "code",
   "execution_count": 14,
   "metadata": {},
   "outputs": [
    {
     "name": "stdout",
     "output_type": "stream",
     "text": [
      "Call Option Price (mibianlib): 10.45\n",
      "Put Option Price (mibianlib): 5.57\n"
     ]
    },
    {
     "data": {
      "text/plain": [
       "5.573526022256971"
      ]
     },
     "execution_count": 14,
     "metadata": {},
     "output_type": "execute_result"
    }
   ],
   "source": [
    "# Example usage\n",
    "S = 100  # Current stock price\n",
    "K = 100  # Option strike price\n",
    "T = 365  # Time to maturity in days\n",
    "r = 5  # Risk-free interest rate in percentage\n",
    "sigma = 20  # Annual volatility in percentage\n",
    "\n",
    "# Calculate call and put option prices using Black-Scholes model\n",
    "bs = mibian.BS([S, K, r, T], volatility=sigma)\n",
    "\n",
    "call_price = bs.callPrice\n",
    "put_price = bs.putPrice\n",
    "\n",
    "print(f\"Call Option Price (mibianlib): {call_price:.2f}\")\n",
    "print(f\"Put Option Price (mibianlib): {put_price:.2f}\")\n",
    "\n",
    "T = 1\n",
    "r = 0.05\n",
    "sigma = 0.2\n",
    "model.black_scholes(S, K, T, r, sigma, 'call')\n",
    "model.black_scholes(S, K, T, r, sigma, 'put')"
   ]
  },
  {
   "cell_type": "code",
   "execution_count": null,
   "metadata": {},
   "outputs": [],
   "source": []
  }
 ],
 "metadata": {
  "kernelspec": {
   "display_name": "streamlit_env",
   "language": "python",
   "name": "python3"
  },
  "language_info": {
   "codemirror_mode": {
    "name": "ipython",
    "version": 3
   },
   "file_extension": ".py",
   "mimetype": "text/x-python",
   "name": "python",
   "nbconvert_exporter": "python",
   "pygments_lexer": "ipython3",
   "version": "3.12.8"
  }
 },
 "nbformat": 4,
 "nbformat_minor": 2
}
