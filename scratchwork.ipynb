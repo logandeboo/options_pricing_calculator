{
 "cells": [
  {
   "cell_type": "code",
   "execution_count": 1,
   "metadata": {},
   "outputs": [],
   "source": [
    "import streamlit as st\n",
    "import math\n",
    "from scipy.stats import norm"
   ]
  },
  {
   "cell_type": "code",
   "execution_count": 6,
   "metadata": {},
   "outputs": [],
   "source": []
  },
  {
   "cell_type": "code",
   "execution_count": 8,
   "metadata": {},
   "outputs": [],
   "source": [
    "stock_price = 10\n",
    "strike_price = 15\n",
    "vol_pct = 12\n",
    "risk_free_rate = 0.05\n",
    "mnths_to_expiry = 3\n",
    "\n",
    "years_to_expiry = mnths_to_expiry / 12\n",
    "vol_dec = vol_pct / 100\n",
    "\n",
    "d1 = (math.log(stock_price / strike_price) + (risk_free_rate + (vol_dec ** 2) / 2) * years_to_expiry) / (vol_dec * math.sqrt(years_to_expiry))\n",
    "d2 = (math.log(stock_price / strike_price) + (risk_free_rate - (vol_dec ** 2) / 2) * years_to_expiry) / (vol_dec * math.sqrt(years_to_expiry))\n",
    "\n",
    "call_price = stock_price * norm.cdf(d1) - strike_price * math.exp(-risk_free_rate * years_to_expiry) * norm.cdf(d2)\n",
    "put_price = strike_price * math.exp(-risk_free_rate * years_to_expiry) * norm.cdf(-d2) - stock_price * norm.cdf(-d1)\n"
   ]
  },
  {
   "cell_type": "code",
   "execution_count": null,
   "metadata": {},
   "outputs": [],
   "source": []
  }
 ],
 "metadata": {
  "kernelspec": {
   "display_name": "streamlit_env",
   "language": "python",
   "name": "python3"
  },
  "language_info": {
   "codemirror_mode": {
    "name": "ipython",
    "version": 3
   },
   "file_extension": ".py",
   "mimetype": "text/x-python",
   "name": "python",
   "nbconvert_exporter": "python",
   "pygments_lexer": "ipython3",
   "version": "3.12.8"
  }
 },
 "nbformat": 4,
 "nbformat_minor": 2
}
